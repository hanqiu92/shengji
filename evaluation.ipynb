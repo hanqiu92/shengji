{
 "cells": [
  {
   "cell_type": "code",
   "execution_count": 1,
   "metadata": {
    "collapsed": true
   },
   "outputs": [
    {
     "name": "stderr",
     "output_type": "stream",
     "text": [
      "/Users/hanqiu/anaconda3/lib/python3.6/site-packages/tensorflow/python/framework/dtypes.py:526: FutureWarning: Passing (type, 1) or '1type' as a synonym of type is deprecated; in a future version of numpy, it will be understood as (type, (1,)) / '(1,)type'.\n",
      "  _np_qint8 = np.dtype([(\"qint8\", np.int8, 1)])\n",
      "/Users/hanqiu/anaconda3/lib/python3.6/site-packages/tensorflow/python/framework/dtypes.py:527: FutureWarning: Passing (type, 1) or '1type' as a synonym of type is deprecated; in a future version of numpy, it will be understood as (type, (1,)) / '(1,)type'.\n",
      "  _np_quint8 = np.dtype([(\"quint8\", np.uint8, 1)])\n",
      "/Users/hanqiu/anaconda3/lib/python3.6/site-packages/tensorflow/python/framework/dtypes.py:528: FutureWarning: Passing (type, 1) or '1type' as a synonym of type is deprecated; in a future version of numpy, it will be understood as (type, (1,)) / '(1,)type'.\n",
      "  _np_qint16 = np.dtype([(\"qint16\", np.int16, 1)])\n",
      "/Users/hanqiu/anaconda3/lib/python3.6/site-packages/tensorflow/python/framework/dtypes.py:529: FutureWarning: Passing (type, 1) or '1type' as a synonym of type is deprecated; in a future version of numpy, it will be understood as (type, (1,)) / '(1,)type'.\n",
      "  _np_quint16 = np.dtype([(\"quint16\", np.uint16, 1)])\n",
      "/Users/hanqiu/anaconda3/lib/python3.6/site-packages/tensorflow/python/framework/dtypes.py:530: FutureWarning: Passing (type, 1) or '1type' as a synonym of type is deprecated; in a future version of numpy, it will be understood as (type, (1,)) / '(1,)type'.\n",
      "  _np_qint32 = np.dtype([(\"qint32\", np.int32, 1)])\n",
      "/Users/hanqiu/anaconda3/lib/python3.6/site-packages/tensorflow/python/framework/dtypes.py:535: FutureWarning: Passing (type, 1) or '1type' as a synonym of type is deprecated; in a future version of numpy, it will be understood as (type, (1,)) / '(1,)type'.\n",
      "  np_resource = np.dtype([(\"resource\", np.ubyte, 1)])\n"
     ]
    }
   ],
   "source": [
    "import numpy as np\n",
    "import time\n",
    "import matplotlib.pyplot as plt\n",
    "%matplotlib inline\n",
    "\n",
    "from env import *\n",
    "from states import *\n",
    "from agents import *\n",
    "from models import *\n",
    "from util import *"
   ]
  },
  {
   "cell_type": "markdown",
   "metadata": {
    "code_folding": []
   },
   "source": [
    "#### Evaluations\n",
    "\n",
    "Compare performance of different agents."
   ]
  },
  {
   "cell_type": "code",
   "execution_count": null,
   "metadata": {
    "code_folding": [
     0
    ]
   },
   "outputs": [],
   "source": [
    "## load models and set up agents\n",
    "q_model = QModel(save_dir='model/')\n",
    "q_model.restore('dqn-v3/750000')\n",
    "\n",
    "a_base = Agent()\n",
    "a_rl = RlAgent(q_model)\n",
    "e_sim = Env(Game(),DefaultPlayer(),state_generator=StateExtend)\n",
    "a_mcts1 = MCTSAgent(q_model,e_sim,N_search=1600)\n",
    "for a in [a_base,a_rl,a_mcts1]:\n",
    "    a.infer_flag = True\n",
    "\n",
    "# agents = [a_base,a_base,a_base,a_base]\n",
    "# agents = [a_rl,a_base,a_rl,a_base]\n",
    "# agents = [a_base,a_rl,a_base,a_rl]\n",
    "\n",
    "agents = [a_mcts1,a_base,a_mcts1,a_base]\n",
    "# agents = [a_base,a_mcts1,a_base,a_mcts1]\n",
    "# agents = [a_mcts1,a_rl,a_mcts1,a_rl]\n",
    "# agents = [a_rl,a_mcts1,a_rl,a_mcts1]\n",
    "\n",
    "N_iter = 10\n",
    "# N_iter = 10000"
   ]
  },
  {
   "cell_type": "code",
   "execution_count": null,
   "metadata": {
    "code_folding": [
     0
    ]
   },
   "outputs": [],
   "source": [
    "## simulate for a few games and plot the result\n",
    "tt = time.time()\n",
    "curr_scores,eval_scores = \\\n",
    "    run_games(N_iter=N_iter,agents=agents,state_generator=StateExtend)\n",
    "print(time.time()-tt,np.mean(curr_scores),np.mean(eval_scores))\n",
    "\n",
    "plt.figure()\n",
    "plt.hist(eval_scores,np.arange(-200,200+10,10))\n",
    "plt.grid()\n",
    "plt.show()"
   ]
  },
  {
   "cell_type": "code",
   "execution_count": null,
   "metadata": {
    "code_folding": [
     0
    ]
   },
   "outputs": [],
   "source": [
    "## use debug mode to check how each agent plays\n",
    "a_mcts_1.debug_flag = True\n",
    "run_games(N_iter=1,agents=[a_mcts_2,a_mcts_1,a_mcts_2,a_mcts_1],if_random_game=False,if_display=True,\n",
    "                  fname='dataset/valid_set_q.p',state_generator=StateExtend)"
   ]
  },
  {
   "cell_type": "markdown",
   "metadata": {},
   "source": [
    "#### human-AI interaction"
   ]
  },
  {
   "cell_type": "code",
   "execution_count": 2,
   "metadata": {},
   "outputs": [],
   "source": [
    "%gui asyncio"
   ]
  },
  {
   "cell_type": "code",
   "execution_count": 3,
   "metadata": {
    "code_folding": [
     0
    ],
    "collapsed": true
   },
   "outputs": [
    {
     "name": "stdout",
     "output_type": "stream",
     "text": [
      "WARNING:tensorflow:From /Users/hanqiu/anaconda3/lib/python3.6/site-packages/tensorflow/python/ops/resource_variable_ops.py:435: colocate_with (from tensorflow.python.framework.ops) is deprecated and will be removed in a future version.\n",
      "Instructions for updating:\n",
      "Colocations handled automatically by placer.\n",
      "WARNING:tensorflow:From /Users/hanqiu/anaconda3/lib/python3.6/site-packages/tensorflow/python/ops/math_ops.py:3066: to_int32 (from tensorflow.python.ops.math_ops) is deprecated and will be removed in a future version.\n",
      "Instructions for updating:\n",
      "Use tf.cast instead.\n",
      "WARNING:tensorflow:From /Users/hanqiu/anaconda3/lib/python3.6/site-packages/tensorflow/python/ops/math_grad.py:102: div (from tensorflow.python.ops.math_ops) is deprecated and will be removed in a future version.\n",
      "Instructions for updating:\n",
      "Deprecated in favor of operator or tf.math.divide.\n",
      "WARNING:tensorflow:From /Users/hanqiu/anaconda3/lib/python3.6/site-packages/tensorflow/python/training/saver.py:1266: checkpoint_exists (from tensorflow.python.training.checkpoint_management) is deprecated and will be removed in a future version.\n",
      "Instructions for updating:\n",
      "Use standard file APIs to check for files with this prefix.\n",
      "INFO:tensorflow:Restoring parameters from model/mcts-v7/5000/model\n"
     ]
    }
   ],
   "source": [
    "## load models and agents\n",
    "\n",
    "mcts_model = MCTSModel(save_dir='model/')\n",
    "mcts_model.restore('mcts-v7/5000')\n",
    "\n",
    "# a_ai = RlAgent(q_model)\n",
    "e_sim = Env(Game(),DefaultPlayer(),state_generator=StateExtend)\n",
    "a_ai = MCTSAgent(mcts_model,e_sim,N_search=1600,c_puct=400)\n",
    "# a_ai = MCTSAgent(mcts_model,e_sim,N_search=16000)\n",
    "a_ai.infer_flag = True\n",
    "a_ai.debug_flag = True"
   ]
  },
  {
   "cell_type": "code",
   "execution_count": 4,
   "metadata": {
    "code_folding": [
     0
    ],
    "scrolled": true
   },
   "outputs": [
    {
     "name": "stdout",
     "output_type": "stream",
     "text": [
      "init:player:0 -> [♦2,♦2,♣2,♣2,♣5,♣10,♣10,♣K,♥5,♥10,♥J,♥A,♠4,♠5,♠6,♠7,♠8,♠J,♠Q,♠K,♠A,♣9,♠9,♠9,☆],25.\n",
      "init:player:1 -> [♦4,♦5,♦7,♦7,♦J,♦Q,♦A,♣6,♣7,♣8,♣A,♥2,♥3,♥7,♥7,♥10,♥Q,♥K,♥A,♠5,♠10,♠J,♠Q,♠K,☆☆],25.\n",
      "init:player:2 -> [♦4,♦5,♦6,♦10,♦10,♦Q,♦K,♦K,♣3,♣3,♣7,♣A,♥4,♥5,♥8,♥J,♥K,♠2,♠3,♠6,♠7,♠A,♦9,♣9,♥9],25.\n",
      "init:player:3 -> [♦3,♦6,♦8,♦A,♣4,♣4,♣5,♣6,♣8,♣J,♣Q,♣Q,♣K,♥6,♥8,♥Q,♠2,♠3,♠4,♠8,♠10,♦9,♥9,☆,☆☆],25.\n",
      " ♦2,♦2,1465.00,113.95,4.65,0.04; ♣2,♣2,14.00,3.78,4.47,0.09; ♣5,10.00,-11.17,5.10,0.08; ♣K,10.00,-14.89,4.51,0.07; ♠4,9.00,-2.75,4.04,0.07; ♠A,8.00,-2.87,4.77,0.06; ♠5,7.00,-4.20,4.37,0.05; ♥A,7.00,3.49,3.76,0.05; ♠K,6.00,-8.61,5.07,0.04; ♠9,♠9,6.00,5.44,4.55,0.05; ♥5,6.00,1.73,5.57,0.04; ♥J,6.00,3.06,4.42,0.04; ♠8,6.00,0.65,4.67,0.03; ♣10,♣10,6.00,5.91,6.03,0.04; ☆,6.00,-2.56,4.40,0.04; ♠J,5.00,0.10,4.76,0.04; ♥10,5.00,-0.08,4.99,0.04; ♠7,5.00,0.13,4.58,0.03; ♠6,5.00,-0.25,3.91,0.04; ♠Q,4.00,-1.11,4.55,0.04; ♣9,4.00,-0.83,4.49,0.04\n",
      "round:0,player:0 -> ♦2,♦2, curr best ♦2,♦2. player remain: [♣2,♣2,♣5,♣10,♣10,♣K,♥5,♥10,♥J,♥A,♠4,♠5,♠6,♠7,♠8,♠J,♠Q,♠K,♠A,♣9,♠9,♠9,☆],23.\n",
      "--------------------------------------------------\n",
      "Interactive player:\n",
      "△ Player 0    | this round: ♦2,♦2 | remain cards: --- / ♣2,♣2,♣5,♣10,♣10,♣K / ♥5,♥10,♥J,♥A / ♠4,♠5,♠6,♠7,♠8,♠J,♠Q,♠K,♠A,♣9,♠9,♠9,☆.\n",
      "--> Player 1  | this round: ---   | remain cards: ♦4,♦5,♦7,♦7,♦J,♦Q,♦A / ♣6,♣7,♣8,♣A / ♥2,♥3,♥7,♥7,♥10,♥Q,♥K,♥A / ♠5,♠10,♠J,♠Q,♠K,☆☆.\n",
      "Player 2      | this round: ---   | remain cards: ♦4,♦5,♦6,♦10,♦10,♦Q,♦K,♦K / ♣3,♣3,♣7,♣A / ♥4,♥5,♥8,♥J,♥K / ♠2,♠3,♠6,♠7,♠A,♦9,♣9,♥9.\n",
      "Player 3      | this round: ---   | remain cards: ♦3,♦6,♦8,♦A / ♣4,♣4,♣5,♣6,♣8,♣J,♣Q,♣Q,♣K / ♥6,♥8,♥Q / ♠2,♠3,♠4,♠8,♠10,♦9,♥9,☆,☆☆.\n",
      "-------------------------\n",
      "Game major ♠9. Round best play ♦2,♦2, round total score 0. Current game score 0. Stack ♦3,♦8,♦J,♣J,♥2,♥3,♥4,♥6.\n",
      "-------------------------\n"
     ]
    },
    {
     "data": {
      "application/vnd.jupyter.widget-view+json": {
       "model_id": "5aee3c8a14074039b8115b6cb2caf054",
       "version_major": 2,
       "version_minor": 0
      },
      "text/plain": [
       "Dropdown(options=(('Please select from below:', ([], None, False)), ('♦7,♦7', ((5, 5), [(2, 5, (5, 5))], True)…"
      ]
     },
     "metadata": {},
     "output_type": "display_data"
    }
   ],
   "source": [
    "## start playing\n",
    "\n",
    "a_ipy = IpyAgent()\n",
    "# agents = [a_ipy,a_ipy,a_ipy,a_ipy]\n",
    "agents = [a_ai,a_ipy,a_ai,a_ipy]\n",
    "env = Env(Game(),DefaultPlayer(),state_generator=StateExtend)\n",
    "state,_ = generate_random_game(env,if_display=True)\n",
    "task = asyncio.ensure_future(run_single_game_ipy(agents,state,env,if_display=True))"
   ]
  },
  {
   "cell_type": "code",
   "execution_count": null,
   "metadata": {},
   "outputs": [],
   "source": []
  }
 ],
 "metadata": {
  "kernelspec": {
   "display_name": "Python 3",
   "language": "python",
   "name": "python3"
  },
  "language_info": {
   "codemirror_mode": {
    "name": "ipython",
    "version": 3
   },
   "file_extension": ".py",
   "mimetype": "text/x-python",
   "name": "python",
   "nbconvert_exporter": "python",
   "pygments_lexer": "ipython3",
   "version": "3.6.4"
  },
  "varInspector": {
   "cols": {
    "lenName": 16,
    "lenType": 16,
    "lenVar": 40
   },
   "kernels_config": {
    "python": {
     "delete_cmd_postfix": "",
     "delete_cmd_prefix": "del ",
     "library": "var_list.py",
     "varRefreshCmd": "print(var_dic_list())"
    },
    "r": {
     "delete_cmd_postfix": ") ",
     "delete_cmd_prefix": "rm(",
     "library": "var_list.r",
     "varRefreshCmd": "cat(var_dic_list()) "
    }
   },
   "types_to_exclude": [
    "module",
    "function",
    "builtin_function_or_method",
    "instance",
    "_Feature"
   ],
   "window_display": false
  }
 },
 "nbformat": 4,
 "nbformat_minor": 2
}
