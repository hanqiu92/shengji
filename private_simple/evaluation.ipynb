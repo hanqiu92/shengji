{
 "cells": [
  {
   "cell_type": "code",
   "execution_count": 1,
   "metadata": {
    "scrolled": true
   },
   "outputs": [
    {
     "name": "stderr",
     "output_type": "stream",
     "text": [
      "/Users/hanqiu/anaconda3/lib/python3.6/site-packages/tensorflow/python/framework/dtypes.py:526: FutureWarning: Passing (type, 1) or '1type' as a synonym of type is deprecated; in a future version of numpy, it will be understood as (type, (1,)) / '(1,)type'.\n",
      "  _np_qint8 = np.dtype([(\"qint8\", np.int8, 1)])\n",
      "/Users/hanqiu/anaconda3/lib/python3.6/site-packages/tensorflow/python/framework/dtypes.py:527: FutureWarning: Passing (type, 1) or '1type' as a synonym of type is deprecated; in a future version of numpy, it will be understood as (type, (1,)) / '(1,)type'.\n",
      "  _np_quint8 = np.dtype([(\"quint8\", np.uint8, 1)])\n",
      "/Users/hanqiu/anaconda3/lib/python3.6/site-packages/tensorflow/python/framework/dtypes.py:528: FutureWarning: Passing (type, 1) or '1type' as a synonym of type is deprecated; in a future version of numpy, it will be understood as (type, (1,)) / '(1,)type'.\n",
      "  _np_qint16 = np.dtype([(\"qint16\", np.int16, 1)])\n",
      "/Users/hanqiu/anaconda3/lib/python3.6/site-packages/tensorflow/python/framework/dtypes.py:529: FutureWarning: Passing (type, 1) or '1type' as a synonym of type is deprecated; in a future version of numpy, it will be understood as (type, (1,)) / '(1,)type'.\n",
      "  _np_quint16 = np.dtype([(\"quint16\", np.uint16, 1)])\n",
      "/Users/hanqiu/anaconda3/lib/python3.6/site-packages/tensorflow/python/framework/dtypes.py:530: FutureWarning: Passing (type, 1) or '1type' as a synonym of type is deprecated; in a future version of numpy, it will be understood as (type, (1,)) / '(1,)type'.\n",
      "  _np_qint32 = np.dtype([(\"qint32\", np.int32, 1)])\n",
      "/Users/hanqiu/anaconda3/lib/python3.6/site-packages/tensorflow/python/framework/dtypes.py:535: FutureWarning: Passing (type, 1) or '1type' as a synonym of type is deprecated; in a future version of numpy, it will be understood as (type, (1,)) / '(1,)type'.\n",
      "  np_resource = np.dtype([(\"resource\", np.ubyte, 1)])\n"
     ]
    }
   ],
   "source": [
    "import numpy as np\n",
    "import time\n",
    "import matplotlib.pyplot as plt\n",
    "%matplotlib inline\n",
    "\n",
    "from env import *\n",
    "from states import *\n",
    "from agents import *\n",
    "from models import *\n",
    "from util import *"
   ]
  },
  {
   "cell_type": "code",
   "execution_count": 2,
   "metadata": {},
   "outputs": [
    {
     "data": {
      "text/plain": [
       "[1, 2, 5, 6, 7, 8, 9, 11]"
      ]
     },
     "metadata": {},
     "output_type": "display_data"
    },
    {
     "data": {
      "text/plain": [
       "[[0, 8, 14, 15, 16, 17, 18, 19, 21],\n",
       " [4, 4, 10, 12, 14, 16, 18, 20, 21],\n",
       " [0, 1, 7, 9, 10, 13, 15, 17, 20],\n",
       " [2, 3, 3, 5, 6, 11, 12, 13, 19]]"
      ]
     },
     "metadata": {},
     "output_type": "display_data"
    },
    {
     "data": {
      "text/plain": [
       "array([[ 8, -1, -1, 11,  9, -1, -1, -1, -1, -1,  9, -1,  9, 10,  8,  8,\n",
       "         8,  8,  8,  8,  9,  8],\n",
       "       [10, 10, 11, 11,  9, 11, 11, 10,  8, 10, 10, 11, 11, 11,  9, 10,\n",
       "         9, 10,  9, 11, 10,  9]])"
      ]
     },
     "metadata": {},
     "output_type": "display_data"
    },
    {
     "data": {
      "text/plain": [
       "array([[-2, -1, -1, -2,  9, -1, -1, -1, -1, -1,  9, -1,  9, -2, -2, -2,\n",
       "        -2, -2, -2, -2,  9, -2],\n",
       "       [-2, -2, -2, -2,  9, -2, -2, -2, -2, -2, -2, -2, -2, -2,  9, -2,\n",
       "         9, -2,  9, -2, -2,  9]])"
      ]
     },
     "metadata": {},
     "output_type": "display_data"
    }
   ],
   "source": [
    "env = Env(Game(),DefaultPlayer(),state_generator=StateExtend)\n",
    "s,I,cs = env.init((1,1))\n",
    "display(s.stack,cs)\n",
    "display(s.state_vec[0,:(2*s.deck_size)].reshape((2,s.deck_size)))\n",
    "display(I.state_vec[0,:(2*s.deck_size)].reshape((2,s.deck_size)))"
   ]
  },
  {
   "cell_type": "code",
   "execution_count": 3,
   "metadata": {},
   "outputs": [
    {
     "data": {
      "text/plain": [
       "(array([-20]), array([140]))"
      ]
     },
     "execution_count": 3,
     "metadata": {},
     "output_type": "execute_result"
    }
   ],
   "source": [
    "a_base = Agent()\n",
    "agents = [a_base,a_base,a_base,a_base,]\n",
    "run_games(N_iter=1,agents=agents,state_generator=StateExtend)"
   ]
  },
  {
   "cell_type": "markdown",
   "metadata": {
    "code_folding": []
   },
   "source": [
    "#### Evaluations\n",
    "\n",
    "Compare performance of different agents."
   ]
  },
  {
   "cell_type": "code",
   "execution_count": null,
   "metadata": {
    "code_folding": [
     0
    ]
   },
   "outputs": [],
   "source": [
    "## load models and set up agents\n",
    "q_model = QModel(save_dir='model/')\n",
    "q_model.restore('dqn-v3/750000')\n",
    "\n",
    "a_base = Agent()\n",
    "a_rl = RlAgent(q_model)\n",
    "e_sim = Env(Game(),DefaultPlayer(),state_generator=StateExtend)\n",
    "a_mcts1 = MCTSAgent(q_model,e_sim,N_search=1600)\n",
    "for a in [a_base,a_rl,a_mcts1]:\n",
    "    a.infer_flag = True\n",
    "\n",
    "# agents = [a_base,a_base,a_base,a_base]\n",
    "# agents = [a_rl,a_base,a_rl,a_base]\n",
    "# agents = [a_base,a_rl,a_base,a_rl]\n",
    "\n",
    "agents = [a_mcts1,a_base,a_mcts1,a_base]\n",
    "# agents = [a_base,a_mcts1,a_base,a_mcts1]\n",
    "# agents = [a_mcts1,a_rl,a_mcts1,a_rl]\n",
    "# agents = [a_rl,a_mcts1,a_rl,a_mcts1]\n",
    "\n",
    "N_iter = 10\n",
    "# N_iter = 10000"
   ]
  },
  {
   "cell_type": "code",
   "execution_count": null,
   "metadata": {
    "code_folding": [
     0
    ]
   },
   "outputs": [],
   "source": [
    "## simulate for a few games and plot the result\n",
    "tt = time.time()\n",
    "curr_scores,eval_scores = \\\n",
    "    run_games(N_iter=N_iter,agents=agents,state_generator=StateExtend)\n",
    "print(time.time()-tt,np.mean(curr_scores),np.mean(eval_scores))\n",
    "\n",
    "plt.figure()\n",
    "plt.hist(eval_scores,np.arange(-200,200+10,10))\n",
    "plt.grid()\n",
    "plt.show()"
   ]
  },
  {
   "cell_type": "code",
   "execution_count": null,
   "metadata": {
    "code_folding": [
     0
    ]
   },
   "outputs": [],
   "source": [
    "## use debug mode to check how each agent plays\n",
    "a_mcts_1.debug_flag = True\n",
    "run_games(N_iter=1,agents=[a_mcts_2,a_mcts_1,a_mcts_2,a_mcts_1],if_random_game=False,if_display=True,\n",
    "                  fname='dataset/valid_set_q.p',state_generator=StateExtend)"
   ]
  },
  {
   "cell_type": "markdown",
   "metadata": {},
   "source": [
    "#### human-AI interaction"
   ]
  },
  {
   "cell_type": "code",
   "execution_count": 2,
   "metadata": {},
   "outputs": [],
   "source": [
    "%gui asyncio"
   ]
  },
  {
   "cell_type": "code",
   "execution_count": 3,
   "metadata": {
    "code_folding": []
   },
   "outputs": [
    {
     "name": "stdout",
     "output_type": "stream",
     "text": [
      "WARNING:tensorflow:From /Users/hanqiu/anaconda3/lib/python3.6/site-packages/tensorflow/python/framework/op_def_library.py:263: colocate_with (from tensorflow.python.framework.ops) is deprecated and will be removed in a future version.\n",
      "Instructions for updating:\n",
      "Colocations handled automatically by placer.\n",
      "WARNING:tensorflow:From /Users/hanqiu/anaconda3/lib/python3.6/site-packages/tensorflow/python/ops/math_ops.py:3066: to_int32 (from tensorflow.python.ops.math_ops) is deprecated and will be removed in a future version.\n",
      "Instructions for updating:\n",
      "Use tf.cast instead.\n",
      "WARNING:tensorflow:From /Users/hanqiu/anaconda3/lib/python3.6/site-packages/tensorflow/python/ops/math_grad.py:102: div (from tensorflow.python.ops.math_ops) is deprecated and will be removed in a future version.\n",
      "Instructions for updating:\n",
      "Deprecated in favor of operator or tf.math.divide.\n",
      "WARNING:tensorflow:From /Users/hanqiu/anaconda3/lib/python3.6/site-packages/tensorflow/python/training/saver.py:1266: checkpoint_exists (from tensorflow.python.training.checkpoint_management) is deprecated and will be removed in a future version.\n",
      "Instructions for updating:\n",
      "Use standard file APIs to check for files with this prefix.\n",
      "INFO:tensorflow:Restoring parameters from model/dqn-v1/50000/model\n"
     ]
    }
   ],
   "source": [
    "## load models and agents\n",
    "\n",
    "deck_size = len(Game().decks)\n",
    "q_model = QModel(save_dir='model/',deck_size=deck_size)\n",
    "q_model.restore('dqn-v1/50000')\n",
    "\n",
    "# a_ai = RandomAgent()\n",
    "a_ai = RlAgent(q_model)\n",
    "a_ai.infer_flag = True\n",
    "# a_ai.debug_flag = True"
   ]
  },
  {
   "cell_type": "code",
   "execution_count": 4,
   "metadata": {
    "code_folding": [
     0
    ],
    "scrolled": true
   },
   "outputs": [
    {
     "name": "stdout",
     "output_type": "stream",
     "text": [
      "major suit:♣, major level:3, curr house:0.\n",
      "--------------------\n",
      "round:0,player:0 -> ♣5,♣5, curr best ♣5,♣5. player remain: [?],?.\n",
      "**************************************************\n",
      "*****   Interactive player: (♦ / ♥ / ♠ / ♣) ({'2': 10, '5': 10})\n",
      "*****   Game major ♣3. Round best play ♣5,♣5, round total score 20. Current game score 0. Stack ?.\n",
      "**************************************************\n",
      "*****   △ Player 0    | this round: ♣5,♣5 | remain cards: ?.\n",
      "*****   --> Player 1  | this round: ---   | remain cards: ♦2,♦A / ♥4 / ♠A / ♣2,♣A,♥3,♣3,♣3.\n",
      "*****   Player 2      | this round: ---   | remain cards: ?.\n",
      "*****   Player 3      | this round: ---   | remain cards: ?.\n",
      "**************************************************\n"
     ]
    },
    {
     "data": {
      "application/vnd.jupyter.widget-view+json": {
       "model_id": "",
       "version_major": 2,
       "version_minor": 0
      },
      "text/plain": [
       "Dropdown(options=(('Please select from below:', ([], None, False)), ('♣3,♣3', ((19, 19), [(2, 19, (19, 19))], …"
      ]
     },
     "metadata": {},
     "output_type": "display_data"
    },
    {
     "name": "stdout",
     "output_type": "stream",
     "text": [
      "round:0,player:1 -> ♣3,♣3, curr best ♣3,♣3. player remain: [?],?.\n",
      "round:0,player:2 -> ♣4,♣A, curr best ♣3,♣3. player remain: [?],?.\n",
      "**************************************************\n",
      "*****   Interactive player: (♦ / ♥ / ♠ / ♣) ({'2': 10, '5': 10})\n",
      "*****   Game major ♣3. Round best play ♣3,♣3, round total score 20. Current game score 0. Stack ?.\n",
      "**************************************************\n",
      "*****   △ Player 0    | this round: ♣5,♣5 | remain cards: ?.\n",
      "*****   Player 1      | this round: ♣3,♣3 | remain cards: ?.\n",
      "*****   Player 2      | this round: ♣4,♣A | remain cards: ?.\n",
      "*****   --> Player 3  | this round: ---   | remain cards: ♦4,♦5 / ♥A / --- / ♣2,♦3,♦3,♠3,☆,☆☆.\n",
      "**************************************************\n"
     ]
    },
    {
     "data": {
      "application/vnd.jupyter.widget-view+json": {
       "model_id": "",
       "version_major": 2,
       "version_minor": 0
      },
      "text/plain": [
       "Dropdown(options=(('Please select from below:', ([], None, False)), ('♦3,♦3', ((16, 16), [(2, 16, (16, 16))], …"
      ]
     },
     "metadata": {},
     "output_type": "display_data"
    },
    {
     "name": "stdout",
     "output_type": "stream",
     "text": [
      "round:0,player:3 -> ♦3,♦3, curr best ♣3,♣3. player remain: [?],?.\n",
      "round:1,current score:20, eval score:-20.\n",
      "--------------------\n",
      "**************************************************\n",
      "*****   Interactive player: (♦ / ♥ / ♠ / ♣) ({'2': 10, '5': 10})\n",
      "*****   Game major ♣3. Round best play ---, round total score 0. Current game score 20. Stack ?.\n",
      "**************************************************\n",
      "*****   --> Player 1  | this round: --- | remain cards: ♦2,♦A / ♥4 / ♠A / ♣2,♣A,♥3.\n",
      "*****   Player 2      | this round: --- | remain cards: ?.\n",
      "*****   Player 3      | this round: --- | remain cards: ?.\n",
      "*****   △ Player 0    | this round: --- | remain cards: ?.\n",
      "**************************************************\n"
     ]
    },
    {
     "data": {
      "application/vnd.jupyter.widget-view+json": {
       "model_id": "",
       "version_major": 2,
       "version_minor": 0
      },
      "text/plain": [
       "Dropdown(options=(('Please select from below:', ([], None, False)), ('♦A', ((3,), [(1, 3, (3,))], True)), ('♦2…"
      ]
     },
     "metadata": {},
     "output_type": "display_data"
    },
    {
     "name": "stdout",
     "output_type": "stream",
     "text": [
      "round:1,player:1 -> ♦A, curr best ♦A. player remain: [?],?.\n",
      "round:1,player:2 -> ♦4, curr best ♦A. player remain: [?],?.\n",
      "**************************************************\n",
      "*****   Interactive player: (♦ / ♥ / ♠ / ♣) ({'2': 10, '5': 10})\n",
      "*****   Game major ♣3. Round best play ♦A, round total score 0. Current game score 20. Stack ?.\n",
      "**************************************************\n",
      "*****   Player 1      | this round: ♦A  | remain cards: ?.\n",
      "*****   Player 2      | this round: ♦4  | remain cards: ?.\n",
      "*****   --> Player 3  | this round: --- | remain cards: ♦4,♦5 / ♥A / --- / ♣2,♠3,☆,☆☆.\n",
      "*****   △ Player 0    | this round: --- | remain cards: ?.\n",
      "**************************************************\n"
     ]
    },
    {
     "data": {
      "application/vnd.jupyter.widget-view+json": {
       "model_id": "",
       "version_major": 2,
       "version_minor": 0
      },
      "text/plain": [
       "Dropdown(options=(('Please select from below:', ([], None, False)), ('♦5', ((2,), [(1, 2, (2,))], True)), ('♦4…"
      ]
     },
     "metadata": {},
     "output_type": "display_data"
    },
    {
     "name": "stdout",
     "output_type": "stream",
     "text": [
      "round:1,player:3 -> ♦5, curr best ♦A. player remain: [?],?.\n",
      "round:1,player:0 -> ☆☆, curr best ☆☆. player remain: [?],?.\n",
      "round:2,current score:20, eval score:-10.\n",
      "--------------------\n",
      "round:2,player:0 -> ♠5, curr best ♠5. player remain: [?],?.\n",
      "**************************************************\n",
      "*****   Interactive player: (♦ / ♥ / ♠ / ♣) ({'2': 10, '5': 10})\n",
      "*****   Game major ♣3. Round best play ♠5, round total score 10. Current game score 20. Stack ?.\n",
      "**************************************************\n",
      "*****   △ Player 0    | this round: ♠5  | remain cards: ?.\n",
      "*****   --> Player 1  | this round: --- | remain cards: ♦2 / ♥4 / ♠A / ♣2,♣A,♥3.\n",
      "*****   Player 2      | this round: --- | remain cards: ?.\n",
      "*****   Player 3      | this round: --- | remain cards: ?.\n",
      "**************************************************\n"
     ]
    },
    {
     "data": {
      "application/vnd.jupyter.widget-view+json": {
       "model_id": "",
       "version_major": 2,
       "version_minor": 0
      },
      "text/plain": [
       "Dropdown(options=(('Please select from below:', ([], None, False)), ('♠A', ((11,), [(1, 11, (11,))], True))), …"
      ]
     },
     "metadata": {},
     "output_type": "display_data"
    },
    {
     "name": "stdout",
     "output_type": "stream",
     "text": [
      "round:2,player:1 -> ♠A, curr best ♠A. player remain: [?],?.\n",
      "round:2,player:2 -> ♠2, curr best ♠A. player remain: [?],?.\n",
      "**************************************************\n",
      "*****   Interactive player: (♦ / ♥ / ♠ / ♣) ({'2': 10, '5': 10})\n",
      "*****   Game major ♣3. Round best play ♠A, round total score 20. Current game score 20. Stack ?.\n",
      "**************************************************\n",
      "*****   △ Player 0    | this round: ♠5  | remain cards: ?.\n",
      "*****   Player 1      | this round: ♠A  | remain cards: ?.\n",
      "*****   Player 2      | this round: ♠2  | remain cards: ?.\n",
      "*****   --> Player 3  | this round: --- | remain cards: ♦4 / ♥A / --- / ♣2,♠3,☆,☆☆.\n",
      "**************************************************\n"
     ]
    },
    {
     "data": {
      "application/vnd.jupyter.widget-view+json": {
       "model_id": "",
       "version_major": 2,
       "version_minor": 0
      },
      "text/plain": [
       "Dropdown(options=(('Please select from below:', ([], None, False)), ('♦4', ((1,), [(1, 1, (1,))], True)), ('♥A…"
      ]
     },
     "metadata": {},
     "output_type": "display_data"
    },
    {
     "name": "stdout",
     "output_type": "stream",
     "text": [
      "round:2,player:3 -> ♦4, curr best ♠A. player remain: [?],?.\n",
      "round:3,current score:40, eval score:-30.\n",
      "--------------------\n",
      "**************************************************\n",
      "*****   Interactive player: (♦ / ♥ / ♠ / ♣) ({'2': 10, '5': 10})\n",
      "*****   Game major ♣3. Round best play ---, round total score 0. Current game score 40. Stack ?.\n",
      "**************************************************\n",
      "*****   --> Player 1  | this round: --- | remain cards: ♦2 / ♥4 / --- / ♣2,♣A,♥3.\n",
      "*****   Player 2      | this round: --- | remain cards: ?.\n",
      "*****   Player 3      | this round: --- | remain cards: ?.\n",
      "*****   △ Player 0    | this round: --- | remain cards: ?.\n",
      "**************************************************\n"
     ]
    },
    {
     "data": {
      "application/vnd.jupyter.widget-view+json": {
       "model_id": "",
       "version_major": 2,
       "version_minor": 0
      },
      "text/plain": [
       "Dropdown(options=(('Please select from below:', ([], None, False)), ('♦2', ((0,), [(1, 0, (0,))], True)), ('♥4…"
      ]
     },
     "metadata": {},
     "output_type": "display_data"
    },
    {
     "name": "stdout",
     "output_type": "stream",
     "text": [
      "round:3,player:1 -> ♣A, curr best ♣A. player remain: [?],?.\n",
      "round:3,player:2 -> ♠3, curr best ♠3. player remain: [?],?.\n",
      "**************************************************\n",
      "*****   Interactive player: (♦ / ♥ / ♠ / ♣) ({'2': 10, '5': 10})\n",
      "*****   Game major ♣3. Round best play ♠3, round total score 0. Current game score 40. Stack ?.\n",
      "**************************************************\n",
      "*****   Player 1      | this round: ♣A  | remain cards: ?.\n",
      "*****   Player 2      | this round: ♠3  | remain cards: ?.\n",
      "*****   --> Player 3  | this round: --- | remain cards: --- / ♥A / --- / ♣2,♠3,☆,☆☆.\n",
      "*****   △ Player 0    | this round: --- | remain cards: ?.\n",
      "**************************************************\n"
     ]
    },
    {
     "data": {
      "application/vnd.jupyter.widget-view+json": {
       "model_id": "",
       "version_major": 2,
       "version_minor": 0
      },
      "text/plain": [
       "Dropdown(options=(('Please select from below:', ([], None, False)), ('☆☆', ((21,), [(1, 21, (21,))], True)), (…"
      ]
     },
     "metadata": {},
     "output_type": "display_data"
    },
    {
     "name": "stdout",
     "output_type": "stream",
     "text": [
      "round:3,player:3 -> ☆☆, curr best ☆☆. player remain: [?],?.\n",
      "round:3,player:0 -> ☆, curr best ☆☆. player remain: [?],?.\n",
      "round:4,current score:40, eval score:-30.\n",
      "--------------------\n",
      "**************************************************\n",
      "*****   Interactive player: (♦ / ♥ / ♠ / ♣) ({'2': 10, '5': 10})\n",
      "*****   Game major ♣3. Round best play ---, round total score 0. Current game score 40. Stack ?.\n",
      "**************************************************\n",
      "*****   --> Player 3  | this round: --- | remain cards: --- / ♥A / --- / ♣2,♠3,☆.\n",
      "*****   △ Player 0    | this round: --- | remain cards: ?.\n",
      "*****   Player 1      | this round: --- | remain cards: ?.\n",
      "*****   Player 2      | this round: --- | remain cards: ?.\n",
      "**************************************************\n"
     ]
    },
    {
     "data": {
      "application/vnd.jupyter.widget-view+json": {
       "model_id": "",
       "version_major": 2,
       "version_minor": 0
      },
      "text/plain": [
       "Dropdown(options=(('Please select from below:', ([], None, False)), ('♥A', ((7,), [(1, 7, (7,))], True)), ('☆'…"
      ]
     },
     "metadata": {},
     "output_type": "display_data"
    },
    {
     "name": "stdout",
     "output_type": "stream",
     "text": [
      "round:4,player:3 -> ♥A, curr best ♥A. player remain: [?],?.\n",
      "round:4,player:0 -> ♥3, curr best ♥3. player remain: [?],?.\n",
      "**************************************************\n",
      "*****   Interactive player: (♦ / ♥ / ♠ / ♣) ({'2': 10, '5': 10})\n",
      "*****   Game major ♣3. Round best play ♥3, round total score 0. Current game score 40. Stack ?.\n",
      "**************************************************\n",
      "*****   Player 3      | this round: ♥A  | remain cards: ?.\n",
      "*****   △ Player 0    | this round: ♥3  | remain cards: ?.\n",
      "*****   --> Player 1  | this round: --- | remain cards: ♦2 / ♥4 / --- / ♣2,♥3.\n",
      "*****   Player 2      | this round: --- | remain cards: ?.\n",
      "**************************************************\n"
     ]
    },
    {
     "data": {
      "application/vnd.jupyter.widget-view+json": {
       "model_id": "",
       "version_major": 2,
       "version_minor": 0
      },
      "text/plain": [
       "Dropdown(options=(('Please select from below:', ([], None, False)), ('♥4', ((5,), [(1, 5, (5,))], True))), val…"
      ]
     },
     "metadata": {},
     "output_type": "display_data"
    },
    {
     "name": "stdout",
     "output_type": "stream",
     "text": [
      "round:4,player:1 -> ♥4, curr best ♥3. player remain: [?],?.\n",
      "round:4,player:2 -> ♥5, curr best ♥3. player remain: [?],?.\n",
      "round:5,current score:40, eval score:-20.\n",
      "--------------------\n",
      "round:5,player:0 -> ♠4,♠4, curr best ♠4,♠4. player remain: [?],?.\n",
      "**************************************************\n",
      "*****   Interactive player: (♦ / ♥ / ♠ / ♣) ({'2': 10, '5': 10})\n",
      "*****   Game major ♣3. Round best play ♠4,♠4, round total score 0. Current game score 40. Stack ?.\n",
      "**************************************************\n",
      "*****   △ Player 0    | this round: ♠4,♠4 | remain cards: ?.\n",
      "*****   --> Player 1  | this round: ---   | remain cards: ♦2 / --- / --- / ♣2,♥3.\n",
      "*****   Player 2      | this round: ---   | remain cards: ?.\n",
      "*****   Player 3      | this round: ---   | remain cards: ?.\n",
      "**************************************************\n"
     ]
    },
    {
     "data": {
      "application/vnd.jupyter.widget-view+json": {
       "model_id": "",
       "version_major": 2,
       "version_minor": 0
      },
      "text/plain": [
       "Dropdown(options=(('Please select from below:', ([], None, False)), ('♦2,♥3', ([0, 17], [(1, 0, (0,)), (1, 17,…"
      ]
     },
     "metadata": {},
     "output_type": "display_data"
    },
    {
     "name": "stdout",
     "output_type": "stream",
     "text": [
      "round:5,player:1 -> ♦2,♥3, curr best ♠4,♠4. player remain: [?],?.\n",
      "round:5,player:2 -> ♦5,♠5, curr best ♠4,♠4. player remain: [?],?.\n",
      "**************************************************\n",
      "*****   Interactive player: (♦ / ♥ / ♠ / ♣) ({'2': 10, '5': 10})\n",
      "*****   Game major ♣3. Round best play ♠4,♠4, round total score 30. Current game score 40. Stack ?.\n",
      "**************************************************\n",
      "*****   △ Player 0    | this round: ♠4,♠4 | remain cards: ?.\n",
      "*****   Player 1      | this round: ♦2,♥3 | remain cards: ?.\n",
      "*****   Player 2      | this round: ♦5,♠5 | remain cards: ?.\n",
      "*****   --> Player 3  | this round: ---   | remain cards: --- / --- / --- / ♣2,♠3,☆.\n",
      "**************************************************\n"
     ]
    },
    {
     "data": {
      "application/vnd.jupyter.widget-view+json": {
       "model_id": "",
       "version_major": 2,
       "version_minor": 0
      },
      "text/plain": [
       "Dropdown(options=(('Please select from below:', ([], None, False)), ('♠3,☆', ([18, 20], [(1, 18, (18,)), (1, 2…"
      ]
     },
     "metadata": {},
     "output_type": "display_data"
    },
    {
     "name": "stdout",
     "output_type": "stream",
     "text": [
      "round:5,player:3 -> ♣2,♠3, curr best ♠4,♠4. player remain: [?],?.\n",
      "round:6,current score:40, eval score:20.\n",
      "--------------------\n",
      "round:6,player:0 -> ♣4, curr best ♣4. player remain: [?],?.\n",
      "**************************************************\n",
      "*****   Interactive player: (♦ / ♥ / ♠ / ♣) ({'2': 10, '5': 10})\n",
      "*****   Game major ♣3. Round best play ♣4, round total score 0. Current game score 40. Stack ?.\n",
      "**************************************************\n",
      "*****   △ Player 0    | this round: ♣4  | remain cards: ?.\n",
      "*****   --> Player 1  | this round: --- | remain cards: --- / --- / --- / ♣2.\n",
      "*****   Player 2      | this round: --- | remain cards: ?.\n",
      "*****   Player 3      | this round: --- | remain cards: ?.\n",
      "**************************************************\n"
     ]
    },
    {
     "data": {
      "application/vnd.jupyter.widget-view+json": {
       "model_id": "",
       "version_major": 2,
       "version_minor": 0
      },
      "text/plain": [
       "Dropdown(options=(('Please select from below:', ([], None, False)), ('♣2', ((12,), [(1, 12, (12,))], True))), …"
      ]
     },
     "metadata": {},
     "output_type": "display_data"
    },
    {
     "name": "stdout",
     "output_type": "stream",
     "text": [
      "round:6,player:1 -> ♣2, curr best ♣4. player remain: [?],?.\n",
      "round:6,player:2 -> ♥2, curr best ♣4. player remain: [?],?.\n",
      "**************************************************\n",
      "*****   Interactive player: (♦ / ♥ / ♠ / ♣) ({'2': 10, '5': 10})\n",
      "*****   Game major ♣3. Round best play ♣4, round total score 20. Current game score 40. Stack ?.\n",
      "**************************************************\n",
      "*****   △ Player 0    | this round: ♣4  | remain cards: ?.\n",
      "*****   Player 1      | this round: ♣2  | remain cards: ?.\n",
      "*****   Player 2      | this round: ♥2  | remain cards: ?.\n",
      "*****   --> Player 3  | this round: --- | remain cards: --- / --- / --- / ☆.\n",
      "**************************************************\n"
     ]
    },
    {
     "data": {
      "application/vnd.jupyter.widget-view+json": {
       "model_id": "",
       "version_major": 2,
       "version_minor": 0
      },
      "text/plain": [
       "Dropdown(options=(('Please select from below:', ([], None, False)), ('☆', ((20,), [(1, 20, (20,))], True))), v…"
      ]
     },
     "metadata": {},
     "output_type": "display_data"
    },
    {
     "name": "stdout",
     "output_type": "stream",
     "text": [
      "round:6,player:3 -> ☆, curr best ☆. player remain: [?],?.\n",
      "round:7,current score:140, eval score:-80.\n",
      "--------------------\n"
     ]
    }
   ],
   "source": [
    "## start playing\n",
    "\n",
    "a_ipy = IpyAgent()\n",
    "# agents = [a_ipy,a_ipy,a_ipy,a_ipy]\n",
    "agents = [a_ai,a_ipy,a_ai,a_ipy]\n",
    "env = Env(Game(),DefaultPlayer(),state_generator=StateExtend)\n",
    "state,info_set,_ = generate_random_game(env,if_display_private=True,if_display_public=False)\n",
    "task = asyncio.ensure_future(run_single_game_ipy(agents,state,info_set,env,\n",
    "                                                 if_display_private=True,if_display_public=False))"
   ]
  },
  {
   "cell_type": "code",
   "execution_count": null,
   "metadata": {},
   "outputs": [],
   "source": []
  }
 ],
 "metadata": {
  "kernelspec": {
   "display_name": "Python 3",
   "language": "python",
   "name": "python3"
  },
  "language_info": {
   "codemirror_mode": {
    "name": "ipython",
    "version": 3
   },
   "file_extension": ".py",
   "mimetype": "text/x-python",
   "name": "python",
   "nbconvert_exporter": "python",
   "pygments_lexer": "ipython3",
   "version": "3.6.4"
  },
  "varInspector": {
   "cols": {
    "lenName": 16,
    "lenType": 16,
    "lenVar": 40
   },
   "kernels_config": {
    "python": {
     "delete_cmd_postfix": "",
     "delete_cmd_prefix": "del ",
     "library": "var_list.py",
     "varRefreshCmd": "print(var_dic_list())"
    },
    "r": {
     "delete_cmd_postfix": ") ",
     "delete_cmd_prefix": "rm(",
     "library": "var_list.r",
     "varRefreshCmd": "cat(var_dic_list()) "
    }
   },
   "types_to_exclude": [
    "module",
    "function",
    "builtin_function_or_method",
    "instance",
    "_Feature"
   ],
   "window_display": false
  }
 },
 "nbformat": 4,
 "nbformat_minor": 2
}
