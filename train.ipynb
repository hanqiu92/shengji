{
 "cells": [
  {
   "cell_type": "code",
   "execution_count": 1,
   "metadata": {
    "scrolled": true
   },
   "outputs": [
    {
     "name": "stderr",
     "output_type": "stream",
     "text": [
      "/Users/hanqiu/anaconda3/lib/python3.6/site-packages/tensorflow/python/framework/dtypes.py:526: FutureWarning: Passing (type, 1) or '1type' as a synonym of type is deprecated; in a future version of numpy, it will be understood as (type, (1,)) / '(1,)type'.\n",
      "  _np_qint8 = np.dtype([(\"qint8\", np.int8, 1)])\n",
      "/Users/hanqiu/anaconda3/lib/python3.6/site-packages/tensorflow/python/framework/dtypes.py:527: FutureWarning: Passing (type, 1) or '1type' as a synonym of type is deprecated; in a future version of numpy, it will be understood as (type, (1,)) / '(1,)type'.\n",
      "  _np_quint8 = np.dtype([(\"quint8\", np.uint8, 1)])\n",
      "/Users/hanqiu/anaconda3/lib/python3.6/site-packages/tensorflow/python/framework/dtypes.py:528: FutureWarning: Passing (type, 1) or '1type' as a synonym of type is deprecated; in a future version of numpy, it will be understood as (type, (1,)) / '(1,)type'.\n",
      "  _np_qint16 = np.dtype([(\"qint16\", np.int16, 1)])\n",
      "/Users/hanqiu/anaconda3/lib/python3.6/site-packages/tensorflow/python/framework/dtypes.py:529: FutureWarning: Passing (type, 1) or '1type' as a synonym of type is deprecated; in a future version of numpy, it will be understood as (type, (1,)) / '(1,)type'.\n",
      "  _np_quint16 = np.dtype([(\"quint16\", np.uint16, 1)])\n",
      "/Users/hanqiu/anaconda3/lib/python3.6/site-packages/tensorflow/python/framework/dtypes.py:530: FutureWarning: Passing (type, 1) or '1type' as a synonym of type is deprecated; in a future version of numpy, it will be understood as (type, (1,)) / '(1,)type'.\n",
      "  _np_qint32 = np.dtype([(\"qint32\", np.int32, 1)])\n",
      "/Users/hanqiu/anaconda3/lib/python3.6/site-packages/tensorflow/python/framework/dtypes.py:535: FutureWarning: Passing (type, 1) or '1type' as a synonym of type is deprecated; in a future version of numpy, it will be understood as (type, (1,)) / '(1,)type'.\n",
      "  np_resource = np.dtype([(\"resource\", np.ubyte, 1)])\n"
     ]
    }
   ],
   "source": [
    "import numpy as np\n",
    "import time\n",
    "import matplotlib.pyplot as plt\n",
    "%matplotlib inline\n",
    "\n",
    "from env import *\n",
    "from states import *\n",
    "from agents import *\n",
    "from models import *\n",
    "from util import *"
   ]
  },
  {
   "cell_type": "markdown",
   "metadata": {},
   "source": [
    "### Training Pipeline"
   ]
  },
  {
   "cell_type": "markdown",
   "metadata": {},
   "source": [
    "#### DQN\n",
    "\n",
    "First, train an DQN model."
   ]
  },
  {
   "cell_type": "code",
   "execution_count": null,
   "metadata": {},
   "outputs": [],
   "source": [
    "version = 5"
   ]
  },
  {
   "cell_type": "code",
   "execution_count": null,
   "metadata": {
    "code_folding": [
     0
    ]
   },
   "outputs": [],
   "source": [
    "## initialize model\n",
    "q_model = QModel(save_dir='model/')\n",
    "q_model.learn_iter = 1\n",
    "curr_iter = 0\n",
    "q_model.save('dqn-v{}/{}'.format(version,curr_iter))\n",
    "q_model.restore('dqn-v{}/{}'.format(version,curr_iter))"
   ]
  },
  {
   "cell_type": "code",
   "execution_count": null,
   "metadata": {
    "code_folding": [
     0
    ]
   },
   "outputs": [],
   "source": [
    "## train model using DQN\n",
    "agent = RlAgent(q_model)\n",
    "agent.sample_collect_flag = True\n",
    "agents = [agent,agent,agent,agent]\n",
    "\n",
    "tt = time.time()\n",
    "N_iter_inner = 10000\n",
    "for iter_outer in range(50):\n",
    "    run_games(N_iter=N_iter_inner,agents=agents,if_train=True,models=[q_model],state_generator=StateExtend)\n",
    "    q_model.save('dqn-v{}/{}'.format(version,curr_iter+(iter_outer+1)*N_iter_inner))\n",
    "    q_model.partial_restore('dqn-v{}/{}'.format(version,curr_iter+(iter_outer+1)*N_iter_inner))\n",
    "    print('{}:{:.2f}'.format(iter_outer+1,time.time() - tt))\n",
    "    \n",
    "    if iter_outer % 10 == 0 and iter_outer > 0:\n",
    "        ## do some evaluation\n",
    "        q_model_1 = QModel(save_dir='model/')\n",
    "        q_model_1.partial_restore('dqn-v{}/{}'.format(version,curr_iter+(iter_outer+1-10)*N_iter_inner))\n",
    "        q_model_2 = QModel(save_dir='model/')\n",
    "        q_model_2.partial_restore('dqn-v{}/{}'.format(version,curr_iter+(iter_outer+1)*N_iter_inner))\n",
    "\n",
    "        a_base = Agent()\n",
    "        a_rl_1 = RlAgent(q_model_1)\n",
    "        a_rl_2 = RlAgent(q_model_2)\n",
    "        for a in [a_base,a_rl_1,a_rl_2]:\n",
    "            a.infer_flag = True\n",
    "\n",
    "        eval_results = []\n",
    "        for agents in [[a_rl_1,a_base,a_rl_1,a_base],\n",
    "                       [a_rl_2,a_rl_1,a_rl_2,a_rl_1],\n",
    "                      ]:\n",
    "\n",
    "            ttt = time.time()\n",
    "            curr_scores,eval_scores = \\\n",
    "                run_games(N_iter=1000,agents=agents,if_random_game=False,\n",
    "                          fname='dataset/valid_set_q.p',state_generator=StateExtend)\n",
    "#             print(time.time()-ttt,np.mean(curr_scores),np.mean(eval_scores))\n",
    "            eval_results.append(np.mean(eval_scores))\n",
    "        print(iter_outer,'eval results:',eval_results)"
   ]
  },
  {
   "cell_type": "markdown",
   "metadata": {},
   "source": [
    "#### MCTS\n",
    "\n",
    "Next, train an MCTS model."
   ]
  },
  {
   "cell_type": "code",
   "execution_count": null,
   "metadata": {},
   "outputs": [],
   "source": [
    "version = 7"
   ]
  },
  {
   "cell_type": "code",
   "execution_count": null,
   "metadata": {},
   "outputs": [],
   "source": [
    "## initialize model\n",
    "mcts_model = MCTSModel(save_dir='model/')\n",
    "# mcts_model.partial_restore('dqn-v5/100000')\n",
    "mcts_model.save('mcts-v{}/0'.format(version))"
   ]
  },
  {
   "cell_type": "code",
   "execution_count": null,
   "metadata": {
    "code_folding": [
     6,
     28,
     31,
     37
    ]
   },
   "outputs": [],
   "source": [
    "import pickle\n",
    "import os\n",
    "import glob\n",
    "import ray\n",
    "from tqdm import tqdm\n",
    "\n",
    "def collect_samples(model_fname,iter_outer,N_iter_inner):\n",
    "    mcts_model = MCTSModel(save_dir='model/')\n",
    "    mcts_model.partial_restore(model_fname)\n",
    "    e_sim = Env(Game(),DefaultPlayer(),state_generator=StateExtend)\n",
    "    sample_idx = '{}-{}'.format(os.getpid(),random.getrandbits(8))\n",
    "    \n",
    "    agent = MCTSAgent(mcts_model,e_sim,N_search=1600)\n",
    "    agent.sample_collect_flag = True\n",
    "    agents = [agent,agent,agent,agent]\n",
    "    N_batch = 250\n",
    "    tt = time.time()\n",
    "    for iter_inner in range(N_iter_inner//N_batch):\n",
    "        run_games(N_iter=N_batch,agents=agents,state_generator=StateExtend)\n",
    "        with open('dataset/mcts-v{}/{}/data_sample_{}_{}.p'.format(\n",
    "                    version,iter_outer,sample_idx,iter_inner),\n",
    "                  'wb') as fb:\n",
    "            pickle.dump(mcts_model.exp_pool,fb)\n",
    "            mcts_model.clear_experience()\n",
    "        print('{}-{}:{:.2f}'.format(os.getpid(),iter_inner+1,time.time() - tt))\n",
    "        time.sleep(300)\n",
    "\n",
    "@ray.remote\n",
    "def collect_samples_ray(model_fname,iter_outer,N_iter_inner):\n",
    "    return collect_samples(model_fname,iter_outer,N_iter_inner)\n",
    "\n",
    "def load_exprience(model,fname):\n",
    "    with open(fname,'rb') as fb:\n",
    "        exp_pool = pickle.load(fb)\n",
    "    model.exp_pool = exp_pool\n",
    "    model.exp_pool_size = dict([(key,len(value)) for key,value in model.exp_pool.items()])\n",
    "    \n",
    "def ema(losses,factor=0.99):\n",
    "    output = [losses[0]]\n",
    "    for l in losses[1:]:\n",
    "        output.append(factor * output[-1] + (1 - factor) * l)\n",
    "    return output"
   ]
  },
  {
   "cell_type": "code",
   "execution_count": null,
   "metadata": {
    "code_folding": [
     13,
     40,
     41
    ]
   },
   "outputs": [],
   "source": [
    "## train model using MCTS\n",
    "N_threads = 4\n",
    "N_iter_inner = 1000 // N_threads\n",
    "\n",
    "curr_model_iter = 0\n",
    "N_iter_train_inner = 1000\n",
    "N_iter_train_outer = 1\n",
    "valid_data_frac = 0.1\n",
    "holdout_flag = False ## whether the training process has holdout valid set\n",
    "factor = 0.99\n",
    "\n",
    "tt = time.time()\n",
    "ray.init()\n",
    "for iter_outer in range(10):\n",
    "    model_fname = 'mcts-v{}/{}'.format(version,curr_model_iter)\n",
    "    \n",
    "    ## collect samples\n",
    "    if not os.path.exists('dataset/mcts-v{}/{}'.format(version,iter_outer)):\n",
    "        os.mkdir('dataset/mcts-v{}/{}'.format(version,iter_outer))\n",
    "    object_ids = [collect_samples_ray.remote(model_fname,iter_outer,N_iter_inner) for _ in range(N_threads)]\n",
    "    ray.wait(object_ids, num_returns=len(object_ids))\n",
    "    \n",
    "    ## train models\n",
    "    data_fnames_total = []\n",
    "    for iter_ in range(max(iter_outer-5,0),iter_outer):\n",
    "        data_fnames = glob.glob('dataset/mcts-v{}/{}/*.p'.format(version,iter_))\n",
    "        data_fnames_total.extend(data_fnames)\n",
    "    N_fnames = len(data_fnames_total)\n",
    "    valid_data_fnames = [data_fnames_total[i] for i in np.random.choice(N_fnames,int(valid_data_frac*N_fnames))]\n",
    "    if holdout_flag:\n",
    "        data_fnames = list(set(data_fnames_total)-set(valid_data_fnames)) ## hold-out training\n",
    "    else:\n",
    "        data_fnames = data_fnames_total ## all training\n",
    "    \n",
    "    mcts_model = MCTSModel(save_dir='model/')\n",
    "    mcts_model.restore(model_fname)\n",
    "    mcts_model.learn_iter = 10\n",
    "    prob_loss_all,q_loss_all = [],[]\n",
    "    valid_prob_loss_all,valid_q_loss_all = [],[]\n",
    "    \n",
    "    for _ in range(N_iter_train_outer):\n",
    "        for _ in tqdm(range(N_iter_train_inner)):\n",
    "            data_fname = np.random.choice(data_fnames)\n",
    "            load_exprience(mcts_model,data_fname)\n",
    "            prob_loss_batches,q_loss_batches = mcts_model.learn()\n",
    "            prob_loss_all.extend(prob_loss_batches)\n",
    "            q_loss_all.extend(q_loss_batches)\n",
    "            \n",
    "            ## validation\n",
    "            data_fname = np.random.choice(valid_data_fnames)\n",
    "            load_exprience(mcts_model,data_fname)\n",
    "            valid_prob_loss_batches,valid_q_loss_batches = mcts_model.eval()\n",
    "            valid_prob_loss_all.extend(valid_prob_loss_batches)\n",
    "            valid_q_loss_all.extend(valid_q_loss_batches)\n",
    "        \n",
    "        fig,axes = plt.subplots(2,2,figsize=(6,6))\n",
    "        axes[0,0].plot(ema(prob_loss_all,factor),label='train P loss')\n",
    "        axes[0,1].plot(ema(q_loss_all,factor),label='train Q loss')\n",
    "        axes[1,0].plot(ema(valid_prob_loss_all,factor),label='valid P loss')\n",
    "        axes[1,1].plot(ema(valid_q_loss_all,factor),label='valid Q loss')\n",
    "        for ax in axes.ravel():\n",
    "            ax.legend()\n",
    "            ax.grid()\n",
    "        plt.tight_layout()\n",
    "        plt.show()\n",
    "        \n",
    "        curr_model_iter += N_iter_train_inner\n",
    "        mcts_model.save('mcts-v{}/{}'.format(version,curr_model_iter))\n",
    "        \n",
    "    ## do some evaluation\n",
    "    mcts_model_1 = MCTSModel(save_dir='model/')\n",
    "    mcts_model_1.restore('mcts-v{}/{}'.format(version,curr_model_iter - N_iter_train_inner * N_iter_train_outer))\n",
    "    mcts_model_2 = MCTSModel(save_dir='model/')\n",
    "    mcts_model_2.restore('mcts-v{}/{}'.format(version,curr_model_iter))\n",
    "\n",
    "    a_base = Agent()\n",
    "    e_sim = Env(Game(),DefaultPlayer(),state_generator=StateExtend)\n",
    "    a_mcts_1 = MCTSAgent(mcts_model_1,e_sim,N_search=1600,c_puct=400)\n",
    "    a_mcts_2 = MCTSAgent(mcts_model_2,e_sim,N_search=1600,c_puct=400)\n",
    "    for a in [a_base,a_mcts_1,a_mcts_2]:\n",
    "        a.infer_flag = True\n",
    "\n",
    "    ttt = time.time()\n",
    "    eval_results = []\n",
    "    for agents in [\n",
    "                   [a_mcts_1,a_base,a_mcts_1,a_base],\n",
    "                   [a_mcts_2,a_mcts_1,a_mcts_2,a_mcts_1],\n",
    "                  ]:\n",
    "        curr_scores,eval_scores = \\\n",
    "            run_games(N_iter=100,agents=agents,if_random_game=False,\n",
    "                      fname='dataset/valid_set_q.p',state_generator=StateExtend)\n",
    "        eval_results.append(np.mean(eval_scores))\n",
    "    print('{} eval time:{:.2f}; eval results:{}'.format(iter_outer,time.time()-ttt,eval_results))\n",
    "        \n",
    "    print('{}:{:.2f}'.format(iter_outer+1,time.time() - tt))\n",
    "    \n",
    "ray.shutdown()"
   ]
  },
  {
   "cell_type": "markdown",
   "metadata": {},
   "source": [
    "##### benchmarking the learned agent"
   ]
  },
  {
   "cell_type": "code",
   "execution_count": null,
   "metadata": {},
   "outputs": [],
   "source": [
    "mcts_model_1 = MCTSModel(save_dir='model/')\n",
    "mcts_model_1.restore('mcts-v7/1000')\n",
    "mcts_model_2 = MCTSModel(save_dir='model/')\n",
    "mcts_model_2.restore('mcts-v7/5000')"
   ]
  },
  {
   "cell_type": "code",
   "execution_count": null,
   "metadata": {},
   "outputs": [],
   "source": [
    "a_base = Agent()\n",
    "e_sim = Env(Game(),DefaultPlayer(),state_generator=StateExtend)\n",
    "a_mcts_1 = MCTSAgent(mcts_model_1,e_sim,N_search=1600,c_puct=400)\n",
    "a_mcts_2 = MCTSAgent(mcts_model_2,e_sim,N_search=1600,c_puct=400)\n",
    "for a in [a_base,a_mcts_1,a_mcts_2]:\n",
    "    a.infer_flag = True\n",
    "\n",
    "ttt = time.time()\n",
    "eval_results = []\n",
    "for agents in [\n",
    "                [a_mcts_2,a_base,a_mcts_2,a_base],\n",
    "                [a_mcts_2,a_mcts_1,a_mcts_2,a_mcts_1],\n",
    "              ]:\n",
    "    curr_scores,eval_scores = \\\n",
    "        run_games(N_iter=100,agents=agents,if_random_game=False,\n",
    "                  fname='dataset/valid_set_q.p',state_generator=StateExtend)\n",
    "    eval_results.append(np.mean(eval_scores))\n",
    "print('eval time:{:.2f}; eval results:{}'.format(time.time()-ttt,eval_results))"
   ]
  },
  {
   "cell_type": "raw",
   "metadata": {},
   "source": [
    "## iter=0, c=400 v.s. 100, win 0.15\n",
    "## iter=80000, c=400 v.s. 100, win 8.3\n",
    "## c = 400, iter=80000 v.s. 0, win 6.75"
   ]
  },
  {
   "cell_type": "markdown",
   "metadata": {},
   "source": [
    "##### check whether the model learns well"
   ]
  },
  {
   "cell_type": "code",
   "execution_count": 4,
   "metadata": {
    "code_folding": [
     0
    ]
   },
   "outputs": [
    {
     "name": "stdout",
     "output_type": "stream",
     "text": [
      "INFO:tensorflow:Restoring parameters from model/mcts-v5/260000/model\n"
     ]
    }
   ],
   "source": [
    "## load the trained model\n",
    "def softmax(arr):\n",
    "    prob = np.exp(arr - np.max(arr))\n",
    "    prob = prob / np.sum(prob)\n",
    "    return prob\n",
    "\n",
    "def eval_ent(arr):\n",
    "    return np.sum(arr * np.log(np.maximum(arr,1e-8)))\n",
    "\n",
    "mcts_model = MCTSModel(save_dir='model/')\n",
    "mcts_model.restore('mcts-v{}/{}'.format(version,curr_model_iter))\n",
    "\n",
    "data_fnames = glob.glob('dataset/mcts-v{}/{}/*.p'.format(version,iter_outer))\n",
    "data_fname = np.random.choice(data_fnames)\n",
    "load_exprience(mcts_model,data_fname)\n",
    "dataset = mcts_model.exp_pool[0]"
   ]
  },
  {
   "cell_type": "code",
   "execution_count": 5,
   "metadata": {
    "code_folding": [
     0,
     4
    ]
   },
   "outputs": [
    {
     "data": {
      "image/png": "[encoded data removed]",
      "text/plain": [
       "<Figure size 432x288 with 1 Axes>"
      ]
     },
     "metadata": {},
     "output_type": "display_data"
    }
   ],
   "source": [
    "## do a batch inference\n",
    "prob_loss_batches = []\n",
    "prob_real_batches,value_real_batches = [],[]\n",
    "logit_pred_batches,prob_pred_batches,value_pred_batches = [],[],[]\n",
    "for exp in dataset:\n",
    "    s_batch,As_batch,direc_batch,mask_len_batch,value_batch,probs_batch = [],[],[],[],[],[]\n",
    "    for sample in [exp]:\n",
    "        state_vec,actions_vec,direc,value,a_probs = sample\n",
    "        mask_len_batch.append(actions_vec.shape[1])\n",
    "    max_len = np.max(mask_len_batch)\n",
    "\n",
    "    for sample in [exp]:\n",
    "        state_vec,actions_vec,direc,value,a_probs = sample\n",
    "\n",
    "        s_batch.append(state_vec)\n",
    "        direc_batch.append(direc)\n",
    "        value_batch.append(value)\n",
    "\n",
    "        n_pad = max_len - actions_vec.shape[1]\n",
    "        if n_pad > 0:\n",
    "            actions_vec = np.concatenate([actions_vec,np.zeros((1,n_pad,55))],axis=1)\n",
    "            a_probs = np.concatenate([a_probs,np.zeros((n_pad,))],axis=0)\n",
    "\n",
    "        As_batch.append(actions_vec)\n",
    "        probs_batch.append(a_probs)\n",
    "\n",
    "    value_pred_batch,logit_pred_batch,prob_loss_batch = \\\n",
    "        mcts_model.sess.run([mcts_model.v_s_eval,mcts_model.logits_sAs_eval,\n",
    "                                                            mcts_model.prob_loss],\n",
    "                                {mcts_model.tfs:np.concatenate(s_batch,axis=0),\n",
    "                                 mcts_model.tfAs:np.concatenate(As_batch,axis=0),\n",
    "                                 mcts_model.tfprobs_sAs:np.stack(probs_batch,axis=0),\n",
    "                                 mcts_model.tfv_s:np.array(value_batch),\n",
    "                                 mcts_model.tfmask_len:np.array(mask_len_batch),\n",
    "                                 mcts_model.tf_direc:np.array(direc_batch),\n",
    "                                })\n",
    "    prob_loss_batches.append(prob_loss_batch)\n",
    "    logit_pred_batches.append((logit_pred_batch))\n",
    "    prob_pred_batches.append(softmax(logit_pred_batch))\n",
    "    value_pred_batches.append(value_pred_batch)\n",
    "    prob_real_batches.append(np.stack(probs_batch,axis=0))\n",
    "    value_real_batches.append(np.array(value_batch))\n",
    "    \n",
    "prob_loss_batches = np.array(prob_loss_batches)\n",
    "value_pred_batches = np.array(value_pred_batches)\n",
    "value_real_batches = np.array(value_real_batches)\n",
    "\n",
    "plt.figure()\n",
    "plt.scatter(value_real_batches[:,0],value_pred_batches[:,0],1,alpha=0.1)\n",
    "plt.plot([-100,100],[-100,100],'r')\n",
    "plt.grid()\n",
    "plt.show()"
   ]
  },
  {
   "cell_type": "code",
   "execution_count": null,
   "metadata": {
    "code_folding": [
     0
    ]
   },
   "outputs": [],
   "source": [
    "## compare the real labels and the predictions\n",
    "for p1,p2 in zip(prob_real_batches,prob_pred_batches):\n",
    "    print(np.stack([p1[0],p2[0]],axis=0),np.sum(p1[0] * np.log(p2[0])),eval_ent(p1[0]))"
   ]
  },
  {
   "cell_type": "markdown",
   "metadata": {},
   "source": [
    "#### Speed Tests"
   ]
  },
  {
   "cell_type": "code",
   "execution_count": null,
   "metadata": {},
   "outputs": [],
   "source": [
    "test_fname = 'dataset/speed_test_set.p'"
   ]
  },
  {
   "cell_type": "code",
   "execution_count": null,
   "metadata": {
    "code_folding": [
     0
    ]
   },
   "outputs": [],
   "source": [
    "## load models\n",
    "mcts_model = MCTSModel(save_dir='model/')\n",
    "e_sim = Env(Game(),DefaultPlayer(),state_generator=StateExtend)\n",
    "agent = MCTSAgent(mcts_model,e_sim,N_search=1600)\n",
    "agent.sample_collect_flag = True\n",
    "agents = [agent,agent,agent,agent]"
   ]
  },
  {
   "cell_type": "code",
   "execution_count": null,
   "metadata": {},
   "outputs": [],
   "source": [
    "%%prun -s cumulative -l 50\n",
    "\n",
    "_ = run_games(agents=agents,fname=test_fname,state_generator=StateExtend)"
   ]
  },
  {
   "cell_type": "code",
   "execution_count": null,
   "metadata": {},
   "outputs": [],
   "source": [
    "%load_ext line_profiler\n",
    "\n",
    "# %lprun -f agent.mcts_search run_games(agents=agents,fname=test_fname,state_generator=StateExtend)\n",
    "%lprun -f agent.predict_node_batch run_games(agents=agents,fname=test_fname,state_generator=StateExtend)"
   ]
  },
  {
   "cell_type": "code",
   "execution_count": null,
   "metadata": {},
   "outputs": [],
   "source": []
  }
 ],
 "metadata": {
  "kernelspec": {
   "display_name": "Python 3",
   "language": "python",
   "name": "python3"
  },
  "language_info": {
   "codemirror_mode": {
    "name": "ipython",
    "version": 3
   },
   "file_extension": ".py",
   "mimetype": "text/x-python",
   "name": "python",
   "nbconvert_exporter": "python",
   "pygments_lexer": "ipython3",
   "version": "3.6.4"
  },
  "varInspector": {
   "cols": {
    "lenName": 16,
    "lenType": 16,
    "lenVar": 40
   },
   "kernels_config": {
    "python": {
     "delete_cmd_postfix": "",
     "delete_cmd_prefix": "del ",
     "library": "var_list.py",
     "varRefreshCmd": "print(var_dic_list())"
    },
    "r": {
     "delete_cmd_postfix": ") ",
     "delete_cmd_prefix": "rm(",
     "library": "var_list.r",
     "varRefreshCmd": "cat(var_dic_list()) "
    }
   },
   "types_to_exclude": [
    "module",
    "function",
    "builtin_function_or_method",
    "instance",
    "_Feature"
   ],
   "window_display": false
  }
 },
 "nbformat": 4,
 "nbformat_minor": 2
}
